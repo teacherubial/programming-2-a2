{
 "cells": [
  {
   "cell_type": "markdown",
   "metadata": {},
   "source": [
    "# Control Statements\n",
    "\n",
    "![Hello!](https://media.giphy.com/media/ASd0Ukj0y3qMM/giphy.gif)"
   ]
  },
  {
   "cell_type": "markdown",
   "metadata": {},
   "source": [
    "# Skills\n",
    "* understand if statements\n",
    "* understand why we use elif instead of else in some cases"
   ]
  },
  {
   "cell_type": "markdown",
   "metadata": {},
   "source": [
    "## `if` statements\n",
    "We can branch code using control statements.  \n",
    "We can do that using `if` statements.\n",
    "\n",
    "![Branching from https://programarcadegames.com](http://programarcadegames.com/chapters/03_if_statements/flowchart1_thumb.png)"
   ]
  },
  {
   "cell_type": "code",
   "execution_count": 1,
   "metadata": {
    "tags": []
   },
   "outputs": [
    {
     "name": "stdin",
     "output_type": "stream",
     "text": [
      "First Value:  10\n",
      "Second Value:  20\n"
     ]
    },
    {
     "name": "stdout",
     "output_type": "stream",
     "text": [
      "a is less than b\n",
      "Done\n"
     ]
    }
   ],
   "source": [
    "# ask the user for two values:\n",
    "# floats are decimal numbers\n",
    "# cast numbers as floats or ints\n",
    "a = float(input('First Value: '))\n",
    "b = float(input('Second Value: '))\n",
    "\n",
    "if a < b:\n",
    "    print(\"a is less than b\")\n",
    "if b < a:\n",
    "    print(\"b is less than a\")\n",
    "print(\"Done\")"
   ]
  },
  {
   "cell_type": "markdown",
   "metadata": {},
   "source": [
    "## `elif` and `else` "
   ]
  },
  {
   "cell_type": "code",
   "execution_count": 8,
   "metadata": {},
   "outputs": [
    {
     "name": "stdin",
     "output_type": "stream",
     "text": [
      "Enter a number:  101\n"
     ]
    },
    {
     "name": "stdout",
     "output_type": "stream",
     "text": [
      "x is greater than 100\n"
     ]
    }
   ],
   "source": [
    "# get input from user\n",
    "x = float(input('Enter a number: '))\n",
    "\n",
    "if x > 100:\n",
    "    print(\"x is greater than 100\")\n",
    "elif x > 50:\n",
    "    print(\"x is greater than 50\")\n",
    "elif x > 25:\n",
    "    print(\"x is greater than 25\")\n",
    "else:\n",
    "    print(\"x is less than or equal to 25\")"
   ]
  },
  {
   "cell_type": "markdown",
   "metadata": {},
   "source": [
    "## Booleans\n",
    "\n",
    "**Booleans** are a _**datatype**_.  \n",
    "They are either `True` or `False` in Python.\n",
    "\n",
    "Note:  \n",
    "Know the distinction between `'True'` and `True`  \n",
    "and equally `'False'` and `False`"
   ]
  },
  {
   "cell_type": "markdown",
   "metadata": {},
   "source": [
    "### _Aside: Checking Data Types_\n",
    "\n",
    "If you want to check the type of data, use, the function `type()`."
   ]
  },
  {
   "cell_type": "code",
   "execution_count": null,
   "metadata": {},
   "outputs": [],
   "source": []
  },
  {
   "cell_type": "code",
   "execution_count": null,
   "metadata": {},
   "outputs": [],
   "source": []
  },
  {
   "cell_type": "markdown",
   "metadata": {},
   "source": [
    "## Boolean Expressions\n",
    "\n",
    "Boolean expressions are operations that evaluate to booleans."
   ]
  },
  {
   "cell_type": "code",
   "execution_count": null,
   "metadata": {},
   "outputs": [],
   "source": []
  },
  {
   "cell_type": "markdown",
   "metadata": {},
   "source": [
    "## Boolean Variables\n",
    "\n",
    "Variables can be booleans as well."
   ]
  },
  {
   "cell_type": "code",
   "execution_count": null,
   "metadata": {},
   "outputs": [],
   "source": []
  },
  {
   "cell_type": "markdown",
   "metadata": {},
   "source": [
    "## Boolean Operators\n",
    "\n",
    "### Using `not`\n",
    "`not` is a unary operator  \n",
    "You only need **one operand**."
   ]
  },
  {
   "cell_type": "code",
   "execution_count": null,
   "metadata": {},
   "outputs": [],
   "source": []
  },
  {
   "cell_type": "markdown",
   "metadata": {},
   "source": [
    "### Using `and` and `or`\n",
    "`and` and `or` are binary operators.  \n",
    "You need **two operands** to use them."
   ]
  },
  {
   "cell_type": "code",
   "execution_count": null,
   "metadata": {},
   "outputs": [],
   "source": []
  },
  {
   "cell_type": "markdown",
   "metadata": {},
   "source": [
    "---\n",
    "# Practice Questions"
   ]
  },
  {
   "cell_type": "markdown",
   "metadata": {},
   "source": [
    "## 1. What's missing from this code?"
   ]
  },
  {
   "cell_type": "code",
   "execution_count": null,
   "metadata": {},
   "outputs": [],
   "source": [
    "temperature = input(f'Temperature: ')\n",
    "if temperature > 90:\n",
    "    print(f'It is hot outside.')\n",
    "else:\n",
    "    print(f'It is not hot out.')"
   ]
  },
  {
   "cell_type": "markdown",
   "metadata": {},
   "source": [
    "## 2. What do you think this next code will print out?\n",
    "**Before you run the code,** take your best guess as to what it will print out.  \n",
    "Put your guess here:  "
   ]
  },
  {
   "cell_type": "code",
   "execution_count": null,
   "metadata": {},
   "outputs": [],
   "source": [
    "x = 5\n",
    "y = x == 6\n",
    "z = x == 5\n",
    "print(f'x={x}')   \n",
    "print(f'y={y}')    \n",
    "print(f'z={z}')    \n",
    "if y:\n",
    "    print(f'Fizz') \n",
    "if z:\n",
    "    print(f'Buzz')"
   ]
  },
  {
   "cell_type": "markdown",
   "metadata": {},
   "source": [
    "## 3. What do you think this code will print out?\n",
    "Again, **take an educated guess before running the code.**  \n",
    "Put your answers in inline comments beside the line of code.  \n",
    "There's an example below.\n",
    "If you're guess isn't right, try and figure out why it outputs what it does."
   ]
  },
  {
   "cell_type": "code",
   "execution_count": null,
   "metadata": {},
   "outputs": [],
   "source": [
    "print(\"3\" == \"3\")           \n",
    "print(\" 3\" == \"3\")          \n",
    "print(3 < 4)                \n",
    "print(3 < 10)               \n",
    "print(\"3\" < \"4\")            \n",
    "print(\"3\" < \"10\")           \n",
    "print( (2 == 2) == \"True\" )\n",
    "print( (2 == 2) == True )   \n",
    "print(3 < \"3\")              "
   ]
  },
  {
   "cell_type": "markdown",
   "metadata": {},
   "source": [
    "---\n",
    "# Exercise\n",
    "\n",
    "Create your own quiz with five or more questions. You can ask questions that require:\n",
    "1. a number as an answer (e.g., What is 1+1?)\n",
    "2. text (e.g. What is Harry Potter's last name?)\n",
    "3. a selection (Which of these choices are correct? A, B, or C?) \n",
    "\n",
    "If you have the user enter non-numeric answers, think and cover the different ways a user could enter a correct answer. For example, if the answer is “a”, would “A” also be acceptable? \n",
    "1. Let the user know if he or she gets the question correct. Print a message depending on the user's answer.\n",
    "2. You need to keep track of how many questions they get correct.\n",
    "3. At the end of the program print the percentage of questions the user gets right. \n",
    "\n",
    "Delivery Date: February 19 2019"
   ]
  },
  {
   "cell_type": "code",
   "execution_count": null,
   "metadata": {},
   "outputs": [],
   "source": [
    "# Quiz Game\n",
    "# Author:\n",
    "# Date:\n",
    "\n"
   ]
  },
  {
   "cell_type": "markdown",
   "metadata": {},
   "source": [
    "# Requirements\n",
    "* Has five or more questions \n",
    "* Give the user feedback per question \n",
    "* Keep track of correct answers\n",
    "* Give them their outcome at the end"
   ]
  }
 ],
 "metadata": {
  "kernelspec": {
   "display_name": "Python 3",
   "language": "python",
   "name": "python3"
  },
  "language_info": {
   "codemirror_mode": {
    "name": "ipython",
    "version": 3
   },
   "file_extension": ".py",
   "mimetype": "text/x-python",
   "name": "python",
   "nbconvert_exporter": "python",
   "pygments_lexer": "ipython3",
   "version": "3.8.2"
  }
 },
 "nbformat": 4,
 "nbformat_minor": 4
}
