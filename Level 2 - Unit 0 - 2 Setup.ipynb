{
 "cells": [
  {
   "cell_type": "markdown",
   "metadata": {},
   "source": [
    "# Setting Up the Environment\n",
    "In this first notebook, you'll get introduced to a platform and develop some skills that will help you in the following semester.\n",
    "\n",
    "This document that you're in is called a **notebook**. It's where we'll spend time reflecting on what we've learned in the course. We'll spend some time and give some space to write in it.\n",
    "\n",
    "## 1. Introduction to Markdown\n",
    "Markdown is a scripting language that allows us to make rich-text (text with _different_ **emphasis**) using symbols. It helps cut down a lot of mouse clicks and makes formatting relatively easy.\n",
    "\n",
    "Do the markdown tutorial at [Markdown Tutorial](https://www.markdowntutorial.com/).\n",
    "\n",
    "Once you're done, markdown the following cell."
   ]
  },
  {
   "cell_type": "markdown",
   "metadata": {},
   "source": [
    "# This is level 1.\n",
    "\n",
    "Test  \n",
    "Line 2  \n",
    "Line 3  \n",
    "\n",
    "## Make this a heading level two.\n",
    "\n",
    "_Make this italicized._\n",
    "\n",
    "**Make this bold.**\n",
    "\n",
    "~~Struckthrough~~\n",
    "\n",
    "Hello<sup>2</sup>\n",
    "\n",
    "Create a table with 3 columns and one header row.\n",
    "\n",
    "| Name     | Age | Superpower         |\n",
    "| ---      | --- | ---                |\n",
    "| Superman | 31  | Everything         |\n",
    "| Batman   | 34  | Super-intelligence |\n",
    "\n",
    "<sup>H<sup>e<sup>l<sup>l<sup>o</sup></sup></sup></sup></sup>"
   ]
  },
  {
   "cell_type": "markdown",
   "metadata": {},
   "source": [
    "### Exercise 1\n",
    "Insert an image here.\n",
    "\n",
    "![Waterfall landscape](https://)\n",
    "\n",
    "![Baby yoda](https://static1.srcdn.com/wordpress/wp-content/uploads/2019/12/Baby-Yoda-in-The-Mandalorian-Chapter-4.jpg)"
   ]
  }
 ],
 "metadata": {
  "kernelspec": {
   "display_name": "Python 3",
   "language": "python",
   "name": "python3"
  },
  "language_info": {
   "codemirror_mode": {
    "name": "ipython",
    "version": 3
   },
   "file_extension": ".py",
   "mimetype": "text/x-python",
   "name": "python",
   "nbconvert_exporter": "python",
   "pygments_lexer": "ipython3",
   "version": "3.8.2"
  }
 },
 "nbformat": 4,
 "nbformat_minor": 4
}
