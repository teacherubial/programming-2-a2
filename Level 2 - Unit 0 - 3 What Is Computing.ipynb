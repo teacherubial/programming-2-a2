{
 "cells": [
  {
   "cell_type": "markdown",
   "metadata": {},
   "source": [
    "# Unit 0 - 3 What is Computing\n",
    "This is where your notes are going to go.  \n",
    "Get into the habit of filling this out while we're going through the lessons.\n",
    "\n",
    "Periodically, I'll be giving you notebook files to fill out. Sometimes you're going to be starting them off yourself.\n",
    "\n",
    "**These files are going to be foundational to your learning. Please give them the time that they require**"
   ]
  },
  {
   "cell_type": "markdown",
   "metadata": {},
   "source": [
    "You may wonder why we're using this and not Microsoft word.  \n",
    "The biggest reason is because this accepts Python.  \n",
    "\n",
    "For example:"
   ]
  },
  {
   "cell_type": "code",
   "execution_count": 46,
   "metadata": {
    "tags": []
   },
   "outputs": [
    {
     "name": "stdout",
     "output_type": "stream",
     "text": [
      "hello world!\n"
     ]
    }
   ],
   "source": [
    "print(\"hello world!\")"
   ]
  },
  {
   "cell_type": "markdown",
   "metadata": {},
   "source": [
    "The line above is a line of code in python. We can do Python in here."
   ]
  },
  {
   "cell_type": "markdown",
   "metadata": {},
   "source": [
    "--------"
   ]
  },
  {
   "cell_type": "markdown",
   "metadata": {},
   "source": [
    "## What are algorithms?"
   ]
  },
  {
   "cell_type": "markdown",
   "metadata": {},
   "source": [
    "It's a set of instructions we give to solve a problem."
   ]
  },
  {
   "cell_type": "code",
   "execution_count": 47,
   "metadata": {
    "tags": []
   },
   "outputs": [
    {
     "name": "stdout",
     "output_type": "stream",
     "text": [
      "Hello! I'm a bot. Nice to meet you.\n"
     ]
    },
    {
     "name": "stdin",
     "output_type": "stream",
     "text": [
      "What's your name?  Jimmy\n"
     ]
    },
    {
     "name": "stdout",
     "output_type": "stream",
     "text": [
      "Hi, Jimmy, I'm happy to be talking to you.\n"
     ]
    },
    {
     "name": "stdin",
     "output_type": "stream",
     "text": [
      "What's your favourite food?  Pho\n"
     ]
    },
    {
     "name": "stdout",
     "output_type": "stream",
     "text": [
      "Mmmmm. That makes me hungry.\n"
     ]
    }
   ],
   "source": [
    "# Get To Know You Bot\n",
    "\n",
    "# Greet the user\n",
    "print(\"Hello! I'm a bot. Nice to meet you.\")\n",
    "\n",
    "# Ask the user for their name\n",
    "name = input(\"What's your name? \")\n",
    "\n",
    "# Respond\n",
    "print(f\"Hi, {name}, I'm happy to be talking to you.\")\n",
    "\n",
    "# Ask for their favourite food\n",
    "favourite_food = input(\"What's your favourite food? \")\n",
    "\n",
    "# Make a comment about their food\n",
    "print(f\"Mmmmm. That makes me hungry.\")"
   ]
  },
  {
   "cell_type": "markdown",
   "metadata": {},
   "source": [
    "☝🏽 This is typically how notebook entries are going to look."
   ]
  },
  {
   "cell_type": "markdown",
   "metadata": {},
   "source": [
    "## Who's the first programmer?"
   ]
  },
  {
   "cell_type": "markdown",
   "metadata": {},
   "source": [
    "The first programmer's name is **Ada Lovelace**."
   ]
  },
  {
   "cell_type": "markdown",
   "metadata": {},
   "source": []
  }
 ],
 "metadata": {
  "kernelspec": {
   "display_name": "Python 3",
   "language": "python",
   "name": "python3"
  },
  "language_info": {
   "codemirror_mode": {
    "name": "ipython",
    "version": 3
   },
   "file_extension": ".py",
   "mimetype": "text/x-python",
   "name": "python",
   "nbconvert_exporter": "python",
   "pygments_lexer": "ipython3",
   "version": "3.8.2"
  }
 },
 "nbformat": 4,
 "nbformat_minor": 4
}
