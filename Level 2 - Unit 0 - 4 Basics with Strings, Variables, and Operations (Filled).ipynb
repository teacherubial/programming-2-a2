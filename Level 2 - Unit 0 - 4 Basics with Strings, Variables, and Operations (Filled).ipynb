{
 "cells": [
  {
   "cell_type": "markdown",
   "metadata": {},
   "source": [
    "# Unit 0.4 - Basics\n",
    "## f-strings\n",
    "### What does f stand for?\n",
    "\n",
    "F stands for **fast**."
   ]
  },
  {
   "cell_type": "code",
   "execution_count": 37,
   "metadata": {},
   "outputs": [
    {
     "name": "stdout",
     "output_type": "stream",
     "text": [
      "This is an f-string!\n"
     ]
    }
   ],
   "source": [
    "print(f\"This is an f-string!\")"
   ]
  },
  {
   "cell_type": "markdown",
   "metadata": {},
   "source": [
    "## String Slices"
   ]
  },
  {
   "cell_type": "code",
   "execution_count": 39,
   "metadata": {},
   "outputs": [
    {
     "name": "stdout",
     "output_type": "stream",
     "text": [
      "Jan\n"
     ]
    }
   ],
   "source": [
    "#        0123456\n",
    "month = \"January\"\n",
    "abbreviation = month[0:3]\n",
    "print(abbreviation)"
   ]
  },
  {
   "cell_type": "code",
   "execution_count": 42,
   "metadata": {},
   "outputs": [
    {
     "name": "stdout",
     "output_type": "stream",
     "text": [
      "Aug\n",
      "gust\n"
     ]
    }
   ],
   "source": [
    "month = \"August\"\n",
    "first_part = month[:3]\n",
    "print(first_part)\n",
    "last_part = month[2:]\n",
    "print(last_part)"
   ]
  },
  {
   "cell_type": "code",
   "execution_count": 45,
   "metadata": {},
   "outputs": [
    {
     "name": "stdout",
     "output_type": "stream",
     "text": [
      "13579\n",
      "2468\n"
     ]
    }
   ],
   "source": [
    "numbers = \"123456789\"\n",
    "# [start:stop:step]\n",
    "odd = numbers[::2]\n",
    "print(odd)\n",
    "even = numbers[1::2]\n",
    "print(even)"
   ]
  },
  {
   "cell_type": "code",
   "execution_count": 48,
   "metadata": {},
   "outputs": [
    {
     "name": "stdout",
     "output_type": "stream",
     "text": [
      "7\n"
     ]
    }
   ],
   "source": [
    "# can give negative indices\n",
    "numbers = \"123456789\"\n",
    "last_num = numbers[-3]\n",
    "print(last_num)"
   ]
  },
  {
   "cell_type": "markdown",
   "metadata": {},
   "source": [
    "### What kind of brackets can you do operations in?\n",
    "\n",
    "We use {} or **braces** to do operations inside of f-strings.\n",
    "\n",
    "### What's an operation?\n",
    "An operation in this case is any mathmatical operation.  \n",
    "Example:\n",
    "\n",
    "#### Using the Math Module\n",
    "We can import the Math module to help us calculate things\n",
    "\n",
    "https://docs.python.org/3/library/math.html\n"
   ]
  },
  {
   "cell_type": "code",
   "execution_count": 5,
   "metadata": {},
   "outputs": [
    {
     "name": "stdout",
     "output_type": "stream",
     "text": [
      "Hello John.\n"
     ]
    }
   ],
   "source": [
    "name = \"John\"\n",
    "print(f\"Hello {name}.\")\n"
   ]
  },
  {
   "cell_type": "code",
   "execution_count": 7,
   "metadata": {},
   "outputs": [
    {
     "name": "stdout",
     "output_type": "stream",
     "text": [
      "0.0\n",
      "The GCD of 10 and 688 is 2\n"
     ]
    }
   ],
   "source": [
    "# print(1 + 1)\n",
    "\n",
    "import math\n",
    "print(math.sin(0))\n",
    "print(f\"The GCD of 10 and 688 is {math.gcd(10, 688)}\")"
   ]
  },
  {
   "cell_type": "markdown",
   "metadata": {},
   "source": [
    "## Escape Codes"
   ]
  },
  {
   "cell_type": "code",
   "execution_count": 22,
   "metadata": {},
   "outputs": [
    {
     "name": "stdout",
     "output_type": "stream",
     "text": [
      "The boy said, \"Hello!\"\n"
     ]
    }
   ],
   "source": [
    "# \\n <- escape sequence\n",
    "# print(\"One line.\")\n",
    "# print(\"Second line.\")\n",
    "\n",
    "# print(\"One line.\\nSecond line.\")\n",
    "\n",
    "# \\t - tab\n",
    "# print(\"Item\\tItem\\tItem\")\n",
    "# print(\"1.\\t2.\\t3.\\t\")\n",
    "\n",
    "# \\\" - inserts a literal double quote\n",
    "print(\"The boy said, \\\"Hello!\\\"\")"
   ]
  },
  {
   "cell_type": "markdown",
   "metadata": {},
   "source": [
    "# Variables"
   ]
  },
  {
   "cell_type": "code",
   "execution_count": 23,
   "metadata": {},
   "outputs": [],
   "source": [
    "message = \"Your time is up.\"\n",
    "\n",
    "# How do you properly name variables\n",
    "# Should start with a lower-case letter\n",
    "name = \"Jonas\"\n",
    "age = 2\n",
    "# if you need a space, use an underscore\n",
    "date_of_birth = \"January 24\"\n",
    "dateOfBirth = \"January 24\" # don't use this in python\n",
    "dob = \"January 24\"         # don't do this, be as descriptive as possible\n",
    "\n",
    "# Constants should be in ALL CAPS\n",
    "SCREEN_WIDTH = 1024\n",
    "SCREEN_HEIGHT = 768\n",
    "\n",
    "# You can use numbers in names\n",
    "number_of_2s = 28"
   ]
  },
  {
   "cell_type": "markdown",
   "metadata": {},
   "source": [
    "## Reassignment"
   ]
  },
  {
   "cell_type": "code",
   "execution_count": 26,
   "metadata": {},
   "outputs": [
    {
     "name": "stdout",
     "output_type": "stream",
     "text": [
      "5\n",
      "7\n"
     ]
    }
   ],
   "source": [
    "bruces_age = 5\n",
    "print(bruces_age)\n",
    "bruces_age = 7\n",
    "print(bruces_age)"
   ]
  },
  {
   "cell_type": "code",
   "execution_count": 29,
   "metadata": {},
   "outputs": [
    {
     "name": "stdout",
     "output_type": "stream",
     "text": [
      "5\n"
     ]
    }
   ],
   "source": [
    "a = 5\n",
    "b = a\n",
    "a = 10\n",
    "print(b)"
   ]
  },
  {
   "cell_type": "markdown",
   "metadata": {},
   "source": [
    "## Updating Variables"
   ]
  },
  {
   "cell_type": "code",
   "execution_count": 36,
   "metadata": {},
   "outputs": [
    {
     "name": "stdout",
     "output_type": "stream",
     "text": [
      "0\n",
      "1\n",
      "7\n"
     ]
    }
   ],
   "source": [
    "counter = 0\n",
    "print(counter)\n",
    "counter = counter + 1\n",
    "print(counter)\n",
    "counter += 6   # increment operator\n",
    "print(counter)"
   ]
  },
  {
   "cell_type": "markdown",
   "metadata": {},
   "source": [
    "## Datatypes\n",
    "### What are some datatypes that we've seen?"
   ]
  },
  {
   "cell_type": "code",
   "execution_count": 52,
   "metadata": {},
   "outputs": [
    {
     "name": "stdout",
     "output_type": "stream",
     "text": [
      "Chemistry 12\n"
     ]
    }
   ],
   "source": [
    "# String\n",
    "my_name = \"Tim\"\n",
    "# f-strings\n",
    "my_last_name = f\"Ubial\"\n",
    "\n",
    "# print(my_name)\n",
    "# print(my_last_name)\n",
    "\n",
    "# OTHER DATATYPES\n",
    "12                 # number -> integer (whole)\n",
    "12.0               # number -> float\n",
    "True\n",
    "False              # boolean values\n",
    "[1, 2, 3, 4]       # list\n",
    "[\"1\", \"2\"]\n",
    "[1, \"one\"]\n",
    "{\"name\": \"Tim\"}    # dictionary (like a list)\n",
    "\n",
    "# e.g.\n",
    "student = {\n",
    "    \"name\": \"Paul\",\n",
    "    \"student number\": 1234,\n",
    "    \"a-block\": \"Chemistry 12\"\n",
    "}\n",
    "print(student[\"a-block\"])"
   ]
  },
  {
   "cell_type": "markdown",
   "metadata": {},
   "source": [
    "### Casting\n",
    "What do we do to force Python to look at a string like it's a number?"
   ]
  },
  {
   "cell_type": "code",
   "execution_count": 57,
   "metadata": {},
   "outputs": [
    {
     "name": "stdout",
     "output_type": "stream",
     "text": [
      "21\n"
     ]
    }
   ],
   "source": [
    "age = \"16\"\n",
    "# add 5 to the age\n",
    "\n",
    "# use a cast to force a value into another type\n",
    "new_age = int(age) + 5\n",
    "print(new_age)"
   ]
  },
  {
   "cell_type": "code",
   "execution_count": 65,
   "metadata": {},
   "outputs": [
    {
     "data": {
      "text/plain": [
       "int"
      ]
     },
     "execution_count": 65,
     "metadata": {},
     "output_type": "execute_result"
    }
   ],
   "source": [
    "# type() function\n",
    "age = 16\n",
    "type(age)"
   ]
  },
  {
   "cell_type": "markdown",
   "metadata": {},
   "source": [
    "# Statements and Expressions\n",
    "\n",
    "A **statement** is an instruction that Python can execute.  \n",
    "> Assignment (when we assign a value to a variable) is  \n",
    "a **statement**.\n",
    "\n",
    "> e.g. `date_of_birth = \"January 22\"`\n",
    "\n",
    "An **expression** is a statement that MUST BE EVALUATED.\n",
    "> e.g. `date_of_birth_and_year = date_of_birth + \" 2020\"`"
   ]
  },
  {
   "cell_type": "markdown",
   "metadata": {},
   "source": [
    "# Order of Operations\n",
    "\n",
    "BEDMAS\n",
    "1. Brackets\n",
    "2. Exponents\n",
    "3. Division and Multiplication\n",
    "4. The rest\n",
    "\n",
    "Evaluates from left-to-right (left-associative)"
   ]
  },
  {
   "cell_type": "code",
   "execution_count": 82,
   "metadata": {},
   "outputs": [
    {
     "name": "stdout",
     "output_type": "stream",
     "text": [
      "2\n"
     ]
    }
   ],
   "source": [
    "# Exponents **\n",
    "squared = 2 ** 2 # (2^2)\n",
    "# print(squared)\n",
    "\n",
    "# Floor division // (gives the result in an int)\n",
    "division_result = 21 // 4\n",
    "# print(division_result)\n",
    "\n",
    "# Find the remainder % Modulo\n",
    "remainder = 8 % 5  # 1r3\n",
    "# print(remainder)\n",
    "\n",
    "# Modulo application\n",
    "# Find out if 14967857 is divisible by 7\n",
    "remainder = 14967857 % 7   # if result is 0 == divisible\n",
    "print(remainder)"
   ]
  },
  {
   "cell_type": "markdown",
   "metadata": {},
   "source": [
    "## Input\n",
    "### How do we get input from a user?"
   ]
  },
  {
   "cell_type": "code",
   "execution_count": 84,
   "metadata": {},
   "outputs": [
    {
     "name": "stdin",
     "output_type": "stream",
     "text": [
      "What's your name? Jupyter\n"
     ]
    },
    {
     "name": "stdout",
     "output_type": "stream",
     "text": [
      "Jupyter\n"
     ]
    }
   ],
   "source": [
    "# Use the input() function\n",
    "your_name = input(f\"What's your name?\")\n",
    "print(your_name)"
   ]
  },
  {
   "cell_type": "markdown",
   "metadata": {},
   "source": [
    "---\n",
    "# Assignment\n",
    "For each of these programs, be sure to put in the header _(Title, Author, Date)_.\n",
    "## Create a program that asks the user for a temperature in Fahrenheit, and then prints the temperature in Celsius.\n",
    "The formula for conversion is:  \n",
    "`C = (F − 32) × 5/9 `"
   ]
  },
  {
   "cell_type": "code",
   "execution_count": 1,
   "metadata": {},
   "outputs": [
    {
     "name": "stdin",
     "output_type": "stream",
     "text": [
      "Please give the temperature in Fahrenheit to convert:  100\n"
     ]
    },
    {
     "name": "stdout",
     "output_type": "stream",
     "text": [
      "100 deg F is 37.77777777777778 deg C.\n"
     ]
    }
   ],
   "source": [
    "# Get temperature from user in Celsius\n",
    "temp_in_fahrenheit = input(f'Please give the temperature in Fahrenheit to convert: ')\n",
    "\n",
    "# Make the calculation\n",
    "temp_in_celsius = (float(temp_in_fahrenheit) - 32) * 5 / 9\n",
    "\n",
    "# Tell the user the conversion\n",
    "print(f'{temp_in_fahrenheit} deg F is {temp_in_celsius} deg C.')"
   ]
  },
  {
   "cell_type": "markdown",
   "metadata": {},
   "source": [
    "## Create a program that takes the radius of a circle and calculates its area.\n",
    "The formula to calculate the area is:  \n",
    "`A = pi * r ^ 2`  \n",
    "Note:  \n",
    "In order to use pi, **import the math module**.  \n",
    "It has the constant, pi, that you can use.\n",
    "You can use it by using `math.pi`."
   ]
  },
  {
   "cell_type": "code",
   "execution_count": null,
   "metadata": {},
   "outputs": [],
   "source": [
    "# Calculate Area of Circle\n",
    "# Author: Ubial\n",
    "# Date: 7 Feb 2019\n",
    "\n",
    "import math\n",
    "\n",
    "# Get the radius from user\n",
    "radius = input(f'Enter the radius: ')\n",
    "area = math.pi * float(radius) ** 2\n",
    "\n",
    "# Print the result\n",
    "print(f'The area of the circle is {area} square units.')"
   ]
  },
  {
   "cell_type": "markdown",
   "metadata": {},
   "source": [
    "## Create a program that tells three jokes.\n",
    "Each of the jokes needs to interact with the user."
   ]
  },
  {
   "cell_type": "code",
   "execution_count": null,
   "metadata": {},
   "outputs": [],
   "source": [
    "# Comedian Bot\n",
    "# Author: Ubial\n",
    "# Date: 7 Feb 2019"
   ]
  }
 ],
 "metadata": {
  "kernelspec": {
   "display_name": "Python 3",
   "language": "python",
   "name": "python3"
  },
  "language_info": {
   "codemirror_mode": {
    "name": "ipython",
    "version": 3
   },
   "file_extension": ".py",
   "mimetype": "text/x-python",
   "name": "python",
   "nbconvert_exporter": "python",
   "pygments_lexer": "ipython3",
   "version": "3.8.2"
  }
 },
 "nbformat": 4,
 "nbformat_minor": 4
}
